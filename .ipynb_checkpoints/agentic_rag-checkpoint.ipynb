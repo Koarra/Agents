{
 "cells": [
  {
   "cell_type": "markdown",
   "id": "dd92df0a-4298-4f72-8d93-da58c53b35dc",
   "metadata": {},
   "source": [
    "# Agentic RAG Application"
   ]
  },
  {
   "cell_type": "code",
   "execution_count": 1,
   "id": "04734bfe-477e-4a63-ae03-3eee27d9ae8a",
   "metadata": {},
   "outputs": [
    {
     "ename": "TypeError",
     "evalue": "FAISS.load_local() missing 1 required positional argument: 'embeddings'",
     "output_type": "error",
     "traceback": [
      "\u001b[31m---------------------------------------------------------------------------\u001b[39m",
      "\u001b[31mTypeError\u001b[39m                                 Traceback (most recent call last)",
      "\u001b[36mCell\u001b[39m\u001b[36m \u001b[39m\u001b[32mIn[1]\u001b[39m\u001b[32m, line 7\u001b[39m\n\u001b[32m      4\u001b[39m \u001b[38;5;28;01mfrom\u001b[39;00m\u001b[38;5;250m \u001b[39m\u001b[34;01mlangchain\u001b[39;00m\u001b[34;01m.\u001b[39;00m\u001b[34;01mvectorstores\u001b[39;00m\u001b[38;5;250m \u001b[39m\u001b[38;5;28;01mimport\u001b[39;00m FAISS  \u001b[38;5;66;03m# or Chroma, etc.\u001b[39;00m\n\u001b[32m      6\u001b[39m \u001b[38;5;66;03m# 1. Load the FAISS retriever (or swap for Chroma, etc.)\u001b[39;00m\n\u001b[32m----> \u001b[39m\u001b[32m7\u001b[39m retriever = \u001b[43mFAISS\u001b[49m\u001b[43m.\u001b[49m\u001b[43mload_local\u001b[49m\u001b[43m(\u001b[49m\u001b[33;43m\"\u001b[39;49m\u001b[33;43mfaiss_index\u001b[39;49m\u001b[33;43m\"\u001b[39;49m\u001b[43m)\u001b[49m.as_retriever()\n\u001b[32m      9\u001b[39m \u001b[38;5;66;03m# 2. Initialize the LLM from Ollama\u001b[39;00m\n\u001b[32m     10\u001b[39m llm = Ollama(model=\u001b[33m\"\u001b[39m\u001b[33mllama3.1\u001b[39m\u001b[33m\"\u001b[39m)  \u001b[38;5;66;03m# Replace with any local Ollama model you’ve pulled\u001b[39;00m\n",
      "\u001b[31mTypeError\u001b[39m: FAISS.load_local() missing 1 required positional argument: 'embeddings'"
     ]
    }
   ],
   "source": [
    "from langchain_community.llms import Ollama\n",
    "from langchain.agents import initialize_agent, Tool\n",
    "from langchain.chains import RetrievalQA\n",
    "from langchain.vectorstores import FAISS  # or Chroma, etc.\n",
    "\n",
    "# 1. Load the FAISS retriever (or swap for Chroma, etc.)\n",
    "retriever = FAISS.load_local(\"faiss_index\").as_retriever()\n",
    "\n",
    "# 2. Initialize the LLM from Ollama\n",
    "llm = Ollama(model=\"llama3.1\")  # Replace with any local Ollama model you’ve pulled\n",
    "\n",
    "# 3. Create a retrieval tool\n",
    "retrieval_tool = Tool(\n",
    "    name=\"Crime Document Search\",\n",
    "    func=RetrievalQA.from_chain_type(\n",
    "        llm=llm,\n",
    "        retriever=retriever\n",
    "    ).run,\n",
    "    description=\"Use this tool to search for information about crimes in the document.\"\n",
    ")\n",
    "\n",
    "# 4. Initialize the agent with the tool and LLM\n",
    "agent = initialize_agent(\n",
    "    tools=[retrieval_tool],\n",
    "    llm=llm,\n",
    "    agent=\"zero-shot-react-description\",\n",
    "    verbose=True\n",
    ")\n",
    "\n",
    "# 5. Define the query\n",
    "query = \"\"\"\n",
    "Find all individuals or organizations involved in a crime in the document. \n",
    "For each, return their name, role (e.g., suspect, victim), and the crime.\n",
    "Format your response as a JSON list.\n",
    "\"\"\"\n",
    "\n",
    "# 6. Run the agent\n",
    "response = agent.run(query)\n",
    "print(response)\n"
   ]
  },
  {
   "cell_type": "code",
   "execution_count": null,
   "id": "2649e6df-fd9e-4e8a-8bde-3b15d1fabf6e",
   "metadata": {},
   "outputs": [],
   "source": []
  }
 ],
 "metadata": {
  "kernelspec": {
   "display_name": "casstle",
   "language": "python",
   "name": "casstle_env"
  },
  "language_info": {
   "codemirror_mode": {
    "name": "ipython",
    "version": 3
   },
   "file_extension": ".py",
   "mimetype": "text/x-python",
   "name": "python",
   "nbconvert_exporter": "python",
   "pygments_lexer": "ipython3",
   "version": "3.13.2"
  }
 },
 "nbformat": 4,
 "nbformat_minor": 5
}
